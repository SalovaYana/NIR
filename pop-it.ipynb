{
 "cells": [
  {
   "cell_type": "code",
   "execution_count": 60,
   "id": "dd38c075",
   "metadata": {},
   "outputs": [],
   "source": [
    "import pandas as pd\n",
    "import numpy as np\n",
    "import matplotlib.pyplot as plt \n",
    "from sklearn.linear_model import LinearRegression \n",
    "from sklearn.metrics import r2_score\n",
    "import statsmodels.api as sm\n",
    "import seaborn as sns\n",
    "from sklearn.linear_model import LinearRegression"
   ]
  },
  {
   "cell_type": "markdown",
   "id": "dba1cd61",
   "metadata": {},
   "source": [
    "###### Cодержание колонок регрессоров и колонки зависимой величины (B):"
   ]
  },
  {
   "cell_type": "markdown",
   "id": "e34e33a1",
   "metadata": {},
   "source": [
    "###### 9 columns"
   ]
  },
  {
   "cell_type": "markdown",
   "id": "ce24ab01",
   "metadata": {},
   "source": [
    "###### 25 rows"
   ]
  },
  {
   "cell_type": "markdown",
   "id": "d8be6745",
   "metadata": {},
   "source": [
    "###### Index"
   ]
  },
  {
   "cell_type": "markdown",
   "id": "70704edc",
   "metadata": {},
   "source": [
    "###### A0, 1"
   ]
  },
  {
   "cell_type": "markdown",
   "id": "9a658f1c",
   "metadata": {},
   "source": [
    "###### A1, the maximum ground temperature,"
   ]
  },
  {
   "cell_type": "markdown",
   "id": "83c17323",
   "metadata": {},
   "source": [
    "###### A2, the minimum ground temperature,"
   ]
  },
  {
   "cell_type": "markdown",
   "id": "7b9d88d9",
   "metadata": {},
   "source": [
    "###### A3, an index for the daily average ground temperature,"
   ]
  },
  {
   "cell_type": "markdown",
   "id": "9c8673cf",
   "metadata": {},
   "source": [
    "###### A4, the maximum air temperature,"
   ]
  },
  {
   "cell_type": "markdown",
   "id": "2c80b039",
   "metadata": {},
   "source": [
    "###### A5, the minimum air temperature,"
   ]
  },
  {
   "cell_type": "markdown",
   "id": "b586e916",
   "metadata": {},
   "source": [
    "###### A6, an index for the daily average air temperature,"
   ]
  },
  {
   "cell_type": "markdown",
   "id": "80867911",
   "metadata": {},
   "source": [
    "###### B, the daily quantity of evaporated water."
   ]
  },
  {
   "cell_type": "markdown",
   "id": "b51a787e",
   "metadata": {},
   "source": [
    "### Импорт и тд:"
   ]
  },
  {
   "cell_type": "code",
   "execution_count": 3,
   "id": "85938dc1",
   "metadata": {},
   "outputs": [],
   "source": [
    "import pandas as pd\n",
    "data = pd.read_table('table.csv', sep=';')"
   ]
  },
  {
   "cell_type": "code",
   "execution_count": 4,
   "id": "509fc4f7",
   "metadata": {},
   "outputs": [],
   "source": [
    "data.columns = ['I','A0','A1','A2','A3','A4','A5','A6','B']"
   ]
  },
  {
   "cell_type": "code",
   "execution_count": 5,
   "id": "f218e7d0",
   "metadata": {},
   "outputs": [],
   "source": [
    "new_row = {'I':1,'A0':1,'A1':84,'A2':65,'A3':149,'A4':86,'A5':61,'A6':159,'B':34}\n"
   ]
  },
  {
   "cell_type": "code",
   "execution_count": 6,
   "id": "ed26429d",
   "metadata": {
    "scrolled": false
   },
   "outputs": [
    {
     "name": "stdout",
     "output_type": "stream",
     "text": [
      "     I  A0  A1  A2   A3  A4  A5   A6   B\n",
      "0    2   1  79  66  142  83  64  152  33\n",
      "1    3   1  81  67  147  83  65  158  26\n",
      "2    4   1  84  68  167  88  69  180  41\n",
      "3    5   1  74  66  131  77  67  147   4\n",
      "4    6   1  73  66  131  78  69  159   5\n",
      "5    7   1  75  67  134  84  68  159  20\n",
      "6    8   1  84  68  161  89  71  195  31\n",
      "7    9   1  86  72  169  91  76  206  38\n",
      "8   10   1  88  73  178  91  76  208  43\n",
      "9   11   1  90  74  187  94  76  211  47\n",
      "10  12   1  88  72  171  94  75  211  45\n",
      "11  13   1  88  72  171  92  70  201  45\n",
      "12  14   1  81  69  154  87  68  167  11\n",
      "13  15   1  79  68  149  83  68  162  10\n",
      "14  16   1  84  69  160  87  66  173  30\n",
      "15  17   1  84  70  160  87  68  177  29\n",
      "16  18   1  84  70  168  88  70  169  23\n",
      "17  19   1  77  67  147  83  66  170  16\n",
      "18  20   1  87  67  166  92  67  196  37\n",
      "19  21   1  89  69  171  92  72  199  50\n",
      "20  22   1  89  72  180  94  72  204  36\n",
      "21  23   1  93  72  186  92  73  201  54\n",
      "22  24   1  93  74  188  93  72  206  44\n",
      "23  25   1  84  65  147  85  59  151  30\n"
     ]
    }
   ],
   "source": [
    "print(data)\n"
   ]
  },
  {
   "cell_type": "code",
   "execution_count": 7,
   "id": "fed13198",
   "metadata": {},
   "outputs": [],
   "source": [
    "del data['I']"
   ]
  },
  {
   "cell_type": "code",
   "execution_count": 8,
   "id": "ee46f972",
   "metadata": {},
   "outputs": [],
   "source": [
    "del data['A0']"
   ]
  },
  {
   "cell_type": "code",
   "execution_count": 9,
   "id": "c6fdcc4e",
   "metadata": {},
   "outputs": [
    {
     "name": "stdout",
     "output_type": "stream",
     "text": [
      "<class 'pandas.core.frame.DataFrame'>\n",
      "RangeIndex: 24 entries, 0 to 23\n",
      "Data columns (total 7 columns):\n",
      " #   Column  Non-Null Count  Dtype\n",
      "---  ------  --------------  -----\n",
      " 0   A1      24 non-null     int64\n",
      " 1   A2      24 non-null     int64\n",
      " 2   A3      24 non-null     int64\n",
      " 3   A4      24 non-null     int64\n",
      " 4   A5      24 non-null     int64\n",
      " 5   A6      24 non-null     int64\n",
      " 6   B       24 non-null     int64\n",
      "dtypes: int64(7)\n",
      "memory usage: 1.4 KB\n"
     ]
    }
   ],
   "source": [
    "\n",
    "data.info()\n"
   ]
  },
  {
   "cell_type": "code",
   "execution_count": 10,
   "id": "ca6db639",
   "metadata": {},
   "outputs": [
    {
     "data": {
      "text/html": [
       "<div>\n",
       "<style scoped>\n",
       "    .dataframe tbody tr th:only-of-type {\n",
       "        vertical-align: middle;\n",
       "    }\n",
       "\n",
       "    .dataframe tbody tr th {\n",
       "        vertical-align: top;\n",
       "    }\n",
       "\n",
       "    .dataframe thead th {\n",
       "        text-align: right;\n",
       "    }\n",
       "</style>\n",
       "<table border=\"1\" class=\"dataframe\">\n",
       "  <thead>\n",
       "    <tr style=\"text-align: right;\">\n",
       "      <th></th>\n",
       "      <th>A1</th>\n",
       "      <th>A2</th>\n",
       "      <th>A3</th>\n",
       "      <th>A4</th>\n",
       "      <th>A5</th>\n",
       "      <th>A6</th>\n",
       "      <th>B</th>\n",
       "    </tr>\n",
       "  </thead>\n",
       "  <tbody>\n",
       "    <tr>\n",
       "      <th>count</th>\n",
       "      <td>24.000000</td>\n",
       "      <td>24.000000</td>\n",
       "      <td>24.000000</td>\n",
       "      <td>24.000000</td>\n",
       "      <td>24.000000</td>\n",
       "      <td>24.000000</td>\n",
       "      <td>24.000000</td>\n",
       "    </tr>\n",
       "    <tr>\n",
       "      <th>mean</th>\n",
       "      <td>83.916667</td>\n",
       "      <td>69.291667</td>\n",
       "      <td>161.041667</td>\n",
       "      <td>87.791667</td>\n",
       "      <td>69.458333</td>\n",
       "      <td>181.750000</td>\n",
       "      <td>31.166667</td>\n",
       "    </tr>\n",
       "    <tr>\n",
       "      <th>std</th>\n",
       "      <td>5.625382</td>\n",
       "      <td>2.742249</td>\n",
       "      <td>17.228589</td>\n",
       "      <td>4.951760</td>\n",
       "      <td>4.159632</td>\n",
       "      <td>22.004446</td>\n",
       "      <td>14.372881</td>\n",
       "    </tr>\n",
       "    <tr>\n",
       "      <th>min</th>\n",
       "      <td>73.000000</td>\n",
       "      <td>65.000000</td>\n",
       "      <td>131.000000</td>\n",
       "      <td>77.000000</td>\n",
       "      <td>59.000000</td>\n",
       "      <td>147.000000</td>\n",
       "      <td>4.000000</td>\n",
       "    </tr>\n",
       "    <tr>\n",
       "      <th>25%</th>\n",
       "      <td>80.500000</td>\n",
       "      <td>67.000000</td>\n",
       "      <td>147.000000</td>\n",
       "      <td>83.750000</td>\n",
       "      <td>67.000000</td>\n",
       "      <td>161.250000</td>\n",
       "      <td>22.250000</td>\n",
       "    </tr>\n",
       "    <tr>\n",
       "      <th>50%</th>\n",
       "      <td>84.000000</td>\n",
       "      <td>69.000000</td>\n",
       "      <td>163.500000</td>\n",
       "      <td>88.000000</td>\n",
       "      <td>69.000000</td>\n",
       "      <td>178.500000</td>\n",
       "      <td>32.000000</td>\n",
       "    </tr>\n",
       "    <tr>\n",
       "      <th>75%</th>\n",
       "      <td>88.000000</td>\n",
       "      <td>72.000000</td>\n",
       "      <td>171.000000</td>\n",
       "      <td>92.000000</td>\n",
       "      <td>72.000000</td>\n",
       "      <td>201.750000</td>\n",
       "      <td>43.250000</td>\n",
       "    </tr>\n",
       "    <tr>\n",
       "      <th>max</th>\n",
       "      <td>93.000000</td>\n",
       "      <td>74.000000</td>\n",
       "      <td>188.000000</td>\n",
       "      <td>94.000000</td>\n",
       "      <td>76.000000</td>\n",
       "      <td>211.000000</td>\n",
       "      <td>54.000000</td>\n",
       "    </tr>\n",
       "  </tbody>\n",
       "</table>\n",
       "</div>"
      ],
      "text/plain": [
       "              A1         A2          A3         A4         A5          A6  \\\n",
       "count  24.000000  24.000000   24.000000  24.000000  24.000000   24.000000   \n",
       "mean   83.916667  69.291667  161.041667  87.791667  69.458333  181.750000   \n",
       "std     5.625382   2.742249   17.228589   4.951760   4.159632   22.004446   \n",
       "min    73.000000  65.000000  131.000000  77.000000  59.000000  147.000000   \n",
       "25%    80.500000  67.000000  147.000000  83.750000  67.000000  161.250000   \n",
       "50%    84.000000  69.000000  163.500000  88.000000  69.000000  178.500000   \n",
       "75%    88.000000  72.000000  171.000000  92.000000  72.000000  201.750000   \n",
       "max    93.000000  74.000000  188.000000  94.000000  76.000000  211.000000   \n",
       "\n",
       "               B  \n",
       "count  24.000000  \n",
       "mean   31.166667  \n",
       "std    14.372881  \n",
       "min     4.000000  \n",
       "25%    22.250000  \n",
       "50%    32.000000  \n",
       "75%    43.250000  \n",
       "max    54.000000  "
      ]
     },
     "execution_count": 10,
     "metadata": {},
     "output_type": "execute_result"
    }
   ],
   "source": [
    "data.describe()"
   ]
  },
  {
   "cell_type": "markdown",
   "id": "8fd109b3",
   "metadata": {},
   "source": [
    "### Делим датасет на тренировочный и тестовый, в соотношении 70:30:"
   ]
  },
  {
   "cell_type": "code",
   "execution_count": 11,
   "id": "88654886",
   "metadata": {
    "scrolled": true
   },
   "outputs": [],
   "source": [
    "from sklearn.model_selection import train_test_split\n",
    "y= data['B']\n",
    "x=data.drop('B',axis=1)\n",
    "\n",
    "x_train,x_test,y_train,y_test=train_test_split(x,y,test_size=0.3)"
   ]
  },
  {
   "cell_type": "code",
   "execution_count": 36,
   "id": "405d766c",
   "metadata": {
    "scrolled": true
   },
   "outputs": [
    {
     "name": "stdout",
     "output_type": "stream",
     "text": [
      "    A1  A2   A3  A4  A5   A6\n",
      "13  79  68  149  83  68  162\n",
      "10  88  72  171  94  75  211\n",
      "19  89  69  171  92  72  199\n",
      "0   79  66  142  83  64  152\n",
      "2   84  68  167  88  69  180\n",
      "7   86  72  169  91  76  206\n",
      "22  93  74  188  93  72  206\n",
      "1   81  67  147  83  65  158\n",
      "3   74  66  131  77  67  147\n",
      "14  84  69  160  87  66  173\n",
      "15  84  70  160  87  68  177\n",
      "5   75  67  134  84  68  159\n",
      "4   73  66  131  78  69  159\n",
      "16  84  70  168  88  70  169\n",
      "11  88  72  171  92  70  201\n",
      "21  93  72  186  92  73  201\n"
     ]
    }
   ],
   "source": [
    "print(x_train)"
   ]
  },
  {
   "cell_type": "code",
   "execution_count": 37,
   "id": "6b5fe8c0",
   "metadata": {},
   "outputs": [
    {
     "name": "stdout",
     "output_type": "stream",
     "text": [
      "    A1  A2   A3  A4  A5   A6\n",
      "23  84  65  147  85  59  151\n",
      "8   88  73  178  91  76  208\n",
      "9   90  74  187  94  76  211\n",
      "18  87  67  166  92  67  196\n",
      "17  77  67  147  83  66  170\n",
      "6   84  68  161  89  71  195\n",
      "20  89  72  180  94  72  204\n",
      "12  81  69  154  87  68  167\n"
     ]
    }
   ],
   "source": [
    "print(x_test)"
   ]
  },
  {
   "cell_type": "code",
   "execution_count": 12,
   "id": "d6ba0a83",
   "metadata": {},
   "outputs": [
    {
     "name": "stdout",
     "output_type": "stream",
     "text": [
      "    A1  A2   A3  A4  A5   A6   B\n",
      "0   79  66  142  83  64  152  33\n",
      "1   81  67  147  83  65  158  26\n",
      "2   84  68  167  88  69  180  41\n",
      "3   74  66  131  77  67  147   4\n",
      "4   73  66  131  78  69  159   5\n",
      "5   75  67  134  84  68  159  20\n",
      "6   84  68  161  89  71  195  31\n",
      "7   86  72  169  91  76  206  38\n",
      "8   88  73  178  91  76  208  43\n",
      "9   90  74  187  94  76  211  47\n",
      "10  88  72  171  94  75  211  45\n",
      "11  88  72  171  92  70  201  45\n",
      "12  81  69  154  87  68  167  11\n",
      "13  79  68  149  83  68  162  10\n",
      "14  84  69  160  87  66  173  30\n",
      "15  84  70  160  87  68  177  29\n",
      "16  84  70  168  88  70  169  23\n",
      "17  77  67  147  83  66  170  16\n",
      "18  87  67  166  92  67  196  37\n",
      "19  89  69  171  92  72  199  50\n",
      "20  89  72  180  94  72  204  36\n",
      "21  93  72  186  92  73  201  54\n",
      "22  93  74  188  93  72  206  44\n",
      "23  84  65  147  85  59  151  30\n"
     ]
    }
   ],
   "source": [
    "print(data)"
   ]
  },
  {
   "cell_type": "markdown",
   "id": "aaa7437c",
   "metadata": {},
   "source": [
    "### График совместного распределения зависимой величины и какого-либо регрессора:"
   ]
  },
  {
   "cell_type": "code",
   "execution_count": 13,
   "id": "7fe40300",
   "metadata": {},
   "outputs": [
    {
     "data": {
      "image/png": "[encoded data removed]",
      "text/plain": [
       "<Figure size 432x288 with 1 Axes>"
      ]
     },
     "metadata": {
      "needs_background": "light"
     },
     "output_type": "display_data"
    }
   ],
   "source": [
    "\n",
    "plt.scatter(data['A1'], data['B'])\n",
    "plt.show()"
   ]
  },
  {
   "cell_type": "markdown",
   "id": "a7a894b1",
   "metadata": {},
   "source": [
    "### Гистограмма для проверки нормальности р-я зависимой величины:"
   ]
  },
  {
   "cell_type": "code",
   "execution_count": 14,
   "id": "5d84d16f",
   "metadata": {},
   "outputs": [
    {
     "data": {
      "text/plain": [
       "(array([2., 2., 1., 2., 1., 5., 3., 2., 4., 2.]),\n",
       " array([ 4.,  9., 14., 19., 24., 29., 34., 39., 44., 49., 54.]),\n",
       " <BarContainer object of 10 artists>)"
      ]
     },
     "execution_count": 14,
     "metadata": {},
     "output_type": "execute_result"
    },
    {
     "data": {
      "image/png": "[encoded data removed]",
      "text/plain": [
       "<Figure size 432x288 with 1 Axes>"
      ]
     },
     "metadata": {
      "needs_background": "light"
     },
     "output_type": "display_data"
    }
   ],
   "source": [
    "plt.hist(data['B'], color = 'pink', edgecolor = 'purple')\n"
   ]
  },
  {
   "cell_type": "markdown",
   "id": "04c04463",
   "metadata": {},
   "source": [
    "### Квантильный график для проверки нормальности р-я зависимой величины:"
   ]
  },
  {
   "cell_type": "code",
   "execution_count": 15,
   "id": "c4a4a837",
   "metadata": {},
   "outputs": [
    {
     "data": {
      "text/plain": [
       "Text(0.5, 1.0, '\"B\" quantile plot')"
      ]
     },
     "execution_count": 15,
     "metadata": {},
     "output_type": "execute_result"
    },
    {
     "data": {
      "image/png": "[encoded data removed]",
      "text/plain": [
       "<Figure size 432x288 with 1 Axes>"
      ]
     },
     "metadata": {
      "needs_background": "light"
     },
     "output_type": "display_data"
    }
   ],
   "source": [
    "\n",
    "fig = plt.figure()\n",
    "ax = fig.add_subplot()\n",
    "sm.qqplot(data['B'], ax = ax, line='s')\n",
    "ax.set_title ('\"B\" quantile plot')\n",
    "\n",
    "\n"
   ]
  },
  {
   "cell_type": "markdown",
   "id": "da372039",
   "metadata": {},
   "source": [
    "### Плонтность распределения зависимой величины"
   ]
  },
  {
   "cell_type": "code",
   "execution_count": 16,
   "id": "b2c61b51",
   "metadata": {},
   "outputs": [
    {
     "data": {
      "text/plain": [
       "<AxesSubplot:ylabel='Density'>"
      ]
     },
     "execution_count": 16,
     "metadata": {},
     "output_type": "execute_result"
    },
    {
     "data": {
      "image/png": "[encoded data removed]",
      "text/plain": [
       "<Figure size 432x288 with 1 Axes>"
      ]
     },
     "metadata": {
      "needs_background": "light"
     },
     "output_type": "display_data"
    }
   ],
   "source": [
    "data['B'].plot(kind = 'density')"
   ]
  },
  {
   "cell_type": "markdown",
   "id": "0e26d48e",
   "metadata": {},
   "source": [
    "### Тест Шапиро-Вилка на нормальность распределения зависимой величины                                                                                                      (нулевая гипотеза - величина распределена нормально)"
   ]
  },
  {
   "cell_type": "code",
   "execution_count": 17,
   "id": "8c1eeadb",
   "metadata": {},
   "outputs": [
    {
     "data": {
      "text/plain": [
       "ShapiroResult(statistic=0.9536348581314087, pvalue=0.32417401671409607)"
      ]
     },
     "execution_count": 17,
     "metadata": {},
     "output_type": "execute_result"
    }
   ],
   "source": [
    "\n",
    "from scipy.stats import shapiro\n",
    "\n",
    "shapiro(data['B'])"
   ]
  },
  {
   "cell_type": "markdown",
   "id": "2ab23bbb",
   "metadata": {},
   "source": [
    "###### p_value>0,05, следовательно, нормальное распределение"
   ]
  },
  {
   "cell_type": "markdown",
   "id": "dfe93038",
   "metadata": {},
   "source": [
    "### \"Ящик с усами\", ну или японские свечи (определяем статистические выбросы):"
   ]
  },
  {
   "cell_type": "code",
   "execution_count": 18,
   "id": "28384fdf",
   "metadata": {},
   "outputs": [
    {
     "data": {
      "image/png": "[encoded data removed]",
      "text/plain": [
       "<Figure size 1440x1440 with 9 Axes>"
      ]
     },
     "metadata": {
      "needs_background": "light"
     },
     "output_type": "display_data"
    }
   ],
   "source": [
    "\n",
    "fig, ax = plt.subplots(ncols = 3, nrows = 3, figsize = (20, 20))\n",
    "index = 0\n",
    "ax = ax.flatten()\n",
    "\n",
    "for col, value in data.items():\n",
    "    colors = ['#F85888']\n",
    "    sns.boxplot(y=col, data=data, ax=ax[index], palette = colors)\n",
    "    index +=1 \n",
    "    plt.tight_layout(pad = 0.8, w_pad=0.5, h_pad=5.0)\n",
    "    \n",
    "   "
   ]
  },
  {
   "cell_type": "markdown",
   "id": "7ae9b1a6",
   "metadata": {},
   "source": [
    "### Тепловая карта корреляции:"
   ]
  },
  {
   "cell_type": "code",
   "execution_count": 19,
   "id": "19a2e0c3",
   "metadata": {
    "scrolled": true
   },
   "outputs": [
    {
     "data": {
      "text/plain": [
       "<AxesSubplot:>"
      ]
     },
     "execution_count": 19,
     "metadata": {},
     "output_type": "execute_result"
    },
    {
     "data": {
      "image/png": "[encoded data removed]",
      "text/plain": [
       "<Figure size 720x576 with 2 Axes>"
      ]
     },
     "metadata": {
      "needs_background": "light"
     },
     "output_type": "display_data"
    }
   ],
   "source": [
    "\n",
    "plt.figure(figsize=(10,8))\n",
    "sns.heatmap(data.corr(), annot = True,fmt='.1g', vmin=-1, vmax=1, center= 0,cmap= 'mako',square=True)"
   ]
  },
  {
   "cell_type": "markdown",
   "id": "e21c85be",
   "metadata": {},
   "source": [
    "#### Выберем столбец А5 -минимальную температуру воздуха"
   ]
  },
  {
   "cell_type": "markdown",
   "id": "40680fc1",
   "metadata": {},
   "source": [
    "### Проверяем совместное распределение зависимой величины и выбранных регрессоров:"
   ]
  },
  {
   "cell_type": "code",
   "execution_count": 32,
   "id": "674492e5",
   "metadata": {},
   "outputs": [
    {
     "data": {
      "image/png": "[encoded data removed]",
      "text/plain": [
       "<Figure size 432x288 with 1 Axes>"
      ]
     },
     "metadata": {
      "needs_background": "light"
     },
     "output_type": "display_data"
    }
   ],
   "source": [
    "plt.scatter(data['B'], data['A5'], c='pink', edgecolor = 'purple')\n",
    "plt.xlabel(\"Переменная B\")\n",
    "plt.ylabel(\"Переменная A5\")\n",
    "plt.show()"
   ]
  },
  {
   "cell_type": "markdown",
   "id": "0ceb14b9",
   "metadata": {},
   "source": [
    "###### Функция для замены статистических выбросов (вроде их нет, так что то, что ниже, видимо некактульно))"
   ]
  },
  {
   "cell_type": "code",
   "execution_count": 161,
   "id": "fdf7dd6c",
   "metadata": {},
   "outputs": [],
   "source": [
    "\n",
    "\n",
    "      q75 = np.percentile(data['A5'],75)\n",
    "      q25= np.percentile(data['A5'],25)\n",
    "        \n",
    "      q10 = np.percentile(data['A5'],10)\n",
    "      q90 = np.percentile(data['A5'],90)\n",
    "        \n",
    "      intr_qr = q75-q25\n",
    "\n",
    "      max = q75+(1.5*intr_qr)\n",
    "      min = q25-(1.5*intr_qr)\n",
    "\n",
    "      data.loc[data['A5']<min,'A5']=q10\n",
    "      data.loc[data['A5']>max,'A5']=q90"
   ]
  },
  {
   "cell_type": "code",
   "execution_count": 41,
   "id": "43757c6a",
   "metadata": {},
   "outputs": [],
   "source": [
    "df=x_train\n",
    "del df['A1']\n",
    "del df['A2']\n",
    "del df['A3']\n",
    "del df['A4']\n",
    "del df['A6']"
   ]
  },
  {
   "cell_type": "markdown",
   "id": "b66848fa",
   "metadata": {},
   "source": [
    "### Непонятно, почему"
   ]
  },
  {
   "cell_type": "code",
   "execution_count": 71,
   "id": "ff8f17fe",
   "metadata": {},
   "outputs": [
    {
     "data": {
      "text/plain": [
       "LinearRegression()"
      ]
     },
     "execution_count": 71,
     "metadata": {},
     "output_type": "execute_result"
    }
   ],
   "source": [
    "model = LinearRegression()\n",
    "model.fit(x_train, y_train)"
   ]
  },
  {
   "cell_type": "code",
   "execution_count": 72,
   "id": "17558835",
   "metadata": {},
   "outputs": [],
   "source": [
    "model = LinearRegression().fit(x_train, y_train)"
   ]
  },
  {
   "cell_type": "code",
   "execution_count": 73,
   "id": "e2a49acb",
   "metadata": {},
   "outputs": [
    {
     "name": "stdout",
     "output_type": "stream",
     "text": [
      "coefficient of determination: 0.2865869543101539\n"
     ]
    }
   ],
   "source": [
    "r_sq = model.score(x_train, y_train)\n",
    "print('coefficient of determination:', r_sq)"
   ]
  },
  {
   "cell_type": "code",
   "execution_count": 74,
   "id": "cbb234d1",
   "metadata": {},
   "outputs": [
    {
     "name": "stdout",
     "output_type": "stream",
     "text": [
      "intercept: -139.69181034482756\n",
      "slope: [2.45689655]\n"
     ]
    }
   ],
   "source": [
    "print('intercept:', model.intercept_)\n",
    "print('slope:', model.coef_)"
   ]
  },
  {
   "cell_type": "markdown",
   "id": "dbfdb515",
   "metadata": {},
   "source": [
    "### Вот здесь другое начинается"
   ]
  },
  {
   "cell_type": "code",
   "execution_count": 78,
   "id": "bb980000",
   "metadata": {},
   "outputs": [
    {
     "name": "stdout",
     "output_type": "stream",
     "text": [
      "                            OLS Regression Results                            \n",
      "==============================================================================\n",
      "Dep. Variable:                      B   R-squared:                       1.000\n",
      "Model:                            OLS   Adj. R-squared:                  0.997\n",
      "Method:                 Least Squares   F-statistic:                     366.1\n",
      "Date:                Fri, 17 Dec 2021   Prob (F-statistic):             0.0400\n",
      "Time:                        22:38:42   Log-Likelihood:               -0.21367\n",
      "No. Observations:                   8   AIC:                             14.43\n",
      "Df Residuals:                       1   BIC:                             14.98\n",
      "Df Model:                           6                                         \n",
      "Covariance Type:            nonrobust                                         \n",
      "==============================================================================\n",
      "                 coef    std err          t      P>|t|      [0.025      0.975]\n",
      "------------------------------------------------------------------------------\n",
      "const        338.2817     55.314      6.116      0.103    -364.555    1041.118\n",
      "A1             2.3355      0.317      7.374      0.086      -1.689       6.360\n",
      "A2            -7.4702      1.240     -6.024      0.105     -23.226       8.286\n",
      "A3             2.7002      0.398      6.781      0.093      -2.360       7.760\n",
      "A4            -5.5249      0.323    -17.092      0.037      -9.632      -1.418\n",
      "A5             1.4835      0.508      2.918      0.210      -4.977       7.944\n",
      "A6            -0.2228      0.154     -1.451      0.384      -2.174       1.728\n",
      "==============================================================================\n",
      "Omnibus:                        0.383   Durbin-Watson:                   1.739\n",
      "Prob(Omnibus):                  0.826   Jarque-Bera (JB):                0.436\n",
      "Skew:                          -0.129   Prob(JB):                        0.804\n",
      "Kurtosis:                       1.885   Cond. No.                     6.60e+04\n",
      "==============================================================================\n",
      "\n",
      "Notes:\n",
      "[1] Standard Errors assume that the covariance matrix of the errors is correctly specified.\n",
      "[2] The condition number is large, 6.6e+04. This might indicate that there are\n",
      "strong multicollinearity or other numerical problems.\n"
     ]
    },
    {
     "name": "stderr",
     "output_type": "stream",
     "text": [
      "C:\\anaconda3\\lib\\site-packages\\scipy\\stats\\stats.py:1603: UserWarning: kurtosistest only valid for n>=20 ... continuing anyway, n=8\n",
      "  warnings.warn(\"kurtosistest only valid for n>=20 ... continuing \"\n"
     ]
    }
   ],
   "source": [
    "x = sm.add_constant(x_test)\n",
    "  \n",
    "result = sm.OLS(y_test, x).fit()\n",
    "  \n",
    "\n",
    "print(result.summary())"
   ]
  },
  {
   "cell_type": "code",
   "execution_count": null,
   "id": "c5d67ea5",
   "metadata": {},
   "outputs": [],
   "source": []
  }
 ],
 "metadata": {
  "kernelspec": {
   "display_name": "Python 3",
   "language": "python",
   "name": "python3"
  },
  "language_info": {
   "codemirror_mode": {
    "name": "ipython",
    "version": 3
   },
   "file_extension": ".py",
   "mimetype": "text/x-python",
   "name": "python",
   "nbconvert_exporter": "python",
   "pygments_lexer": "ipython3",
   "version": "3.8.8"
  }
 },
 "nbformat": 4,
 "nbformat_minor": 5
}
